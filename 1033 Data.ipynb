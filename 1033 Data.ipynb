{
 "cells": [
  {
   "cell_type": "markdown",
   "metadata": {},
   "source": [
    "# 1033 Data \n",
    "### Summary\n",
    " - Download raw set\n",
    " - Group set by State, Item Name, Ship Date, and NSN (National Stock Number)\n",
    " - Derive PSC (Product and Suppy Codes) to categorize items.\n",
    " - Download PSC Manual to relate descriptions to PSC codes"
   ]
  },
  {
   "cell_type": "code",
   "execution_count": 1,
   "metadata": {},
   "outputs": [],
   "source": [
    "import pandas as pd\n",
    "program_df = pd.read_csv('https://query.data.world/s/jblkhnme7uibgq4golet263yn5jcvj')\n",
    "#program_df.head()"
   ]
  },
  {
   "cell_type": "code",
   "execution_count": 2,
   "metadata": {},
   "outputs": [],
   "source": [
    "# Create a new DF grouping by State, Item Name, Ship Date, NSN.\n",
    "# Get sum of Quantity\n",
    "summary_df = program_df.groupby(by = ['State','Item Name', 'Ship Date','NSN'])['Quantity'].sum()\n",
    "summary_df = pd.DataFrame(summary_df)\n",
    "summary_df.reset_index(inplace= True)\n",
    "#summary_df.head()"
   ]
  },
  {
   "cell_type": "code",
   "execution_count": 3,
   "metadata": {},
   "outputs": [],
   "source": [
    "# Having a mental block...I'm sure there is a more elegant way to add the sum of total cost to the DF above.  But this works.\n",
    "# Make a new DF and merge it into summary_df on the non-aggregated attributes.\n",
    "merge_can = program_df.groupby(by= ['State','Item Name', 'Ship Date','NSN'])['Total.Cost'].sum()\n",
    "merge_can = pd.DataFrame(merge_can)\n",
    "merge_can.head()\n",
    "merge_can.reset_index(inplace = True)\n",
    "summary_df = summary_df.merge(merge_can, how= \"inner\", on =['State','Item Name', 'Ship Date','NSN'])\n",
    "# summary_df.head()"
   ]
  },
  {
   "cell_type": "code",
   "execution_count": 4,
   "metadata": {},
   "outputs": [],
   "source": [
    "# Per \"Federal Procurement Data System\" manual, \n",
    "# the PSC code can be used to categorize the Item Names and are the first 4 char of the NSN\n",
    "# Get the PSC code from the NSN\n",
    "summary_df['psc'] = summary_df['NSN'].str.slice(start=0, stop=4, step=None)"
   ]
  },
  {
   "cell_type": "code",
   "execution_count": 5,
   "metadata": {},
   "outputs": [],
   "source": [
    "summary_df[\"psc\"]=pd.to_numeric(summary_df[\"psc\"], errors='coerce')\n"
   ]
  },
  {
   "cell_type": "code",
   "execution_count": 6,
   "metadata": {},
   "outputs": [
    {
     "data": {
      "text/html": [
       "<div>\n",
       "<style scoped>\n",
       "    .dataframe tbody tr th:only-of-type {\n",
       "        vertical-align: middle;\n",
       "    }\n",
       "\n",
       "    .dataframe tbody tr th {\n",
       "        vertical-align: top;\n",
       "    }\n",
       "\n",
       "    .dataframe thead th {\n",
       "        text-align: right;\n",
       "    }\n",
       "</style>\n",
       "<table border=\"1\" class=\"dataframe\">\n",
       "  <thead>\n",
       "    <tr style=\"text-align: right;\">\n",
       "      <th></th>\n",
       "      <th>State</th>\n",
       "      <th>Item Name</th>\n",
       "      <th>Ship Date</th>\n",
       "      <th>NSN</th>\n",
       "      <th>Quantity</th>\n",
       "      <th>Total.Cost</th>\n",
       "      <th>psc</th>\n",
       "    </tr>\n",
       "  </thead>\n",
       "  <tbody>\n",
       "    <tr>\n",
       "      <th>0</th>\n",
       "      <td>ALABAMA</td>\n",
       "      <td>1 4 DRIVE SOCKET SET</td>\n",
       "      <td>4/15/2012</td>\n",
       "      <td>5120-00-WRE-NSET</td>\n",
       "      <td>1</td>\n",
       "      <td>151.24</td>\n",
       "      <td>5120</td>\n",
       "    </tr>\n",
       "    <tr>\n",
       "      <th>1</th>\n",
       "      <td>ALABAMA</td>\n",
       "      <td>10 5 BLK JUNGLE BOOT</td>\n",
       "      <td>4/15/2012</td>\n",
       "      <td>8430-01-B00-T</td>\n",
       "      <td>1</td>\n",
       "      <td>85.00</td>\n",
       "      <td>8430</td>\n",
       "    </tr>\n",
       "    <tr>\n",
       "      <th>2</th>\n",
       "      <td>ALABAMA</td>\n",
       "      <td>11 5 DESERT BOOT</td>\n",
       "      <td>4/15/2012</td>\n",
       "      <td>8430-01-BOO-T</td>\n",
       "      <td>1</td>\n",
       "      <td>125.00</td>\n",
       "      <td>8430</td>\n",
       "    </tr>\n",
       "    <tr>\n",
       "      <th>3</th>\n",
       "      <td>ALABAMA</td>\n",
       "      <td>11 GALLON SHARPS CONTAINER RE</td>\n",
       "      <td>2/15/2012</td>\n",
       "      <td>6530-CO-NTA-INER</td>\n",
       "      <td>1</td>\n",
       "      <td>142.00</td>\n",
       "      <td>6530</td>\n",
       "    </tr>\n",
       "    <tr>\n",
       "      <th>4</th>\n",
       "      <td>ALABAMA</td>\n",
       "      <td>12 INCH SPEAKER S</td>\n",
       "      <td>4/15/2012</td>\n",
       "      <td>5835-00-012-SPEA</td>\n",
       "      <td>1</td>\n",
       "      <td>800.00</td>\n",
       "      <td>5835</td>\n",
       "    </tr>\n",
       "  </tbody>\n",
       "</table>\n",
       "</div>"
      ],
      "text/plain": [
       "     State                      Item Name  Ship Date               NSN  \\\n",
       "0  ALABAMA           1 4 DRIVE SOCKET SET  4/15/2012  5120-00-WRE-NSET   \n",
       "1  ALABAMA           10 5 BLK JUNGLE BOOT  4/15/2012     8430-01-B00-T   \n",
       "2  ALABAMA               11 5 DESERT BOOT  4/15/2012     8430-01-BOO-T   \n",
       "3  ALABAMA  11 GALLON SHARPS CONTAINER RE  2/15/2012  6530-CO-NTA-INER   \n",
       "4  ALABAMA              12 INCH SPEAKER S  4/15/2012  5835-00-012-SPEA   \n",
       "\n",
       "   Quantity  Total.Cost   psc  \n",
       "0         1      151.24  5120  \n",
       "1         1       85.00  8430  \n",
       "2         1      125.00  8430  \n",
       "3         1      142.00  6530  \n",
       "4         1      800.00  5835  "
      ]
     },
     "execution_count": 6,
     "metadata": {},
     "output_type": "execute_result"
    }
   ],
   "source": [
    "summary_df.head()"
   ]
  },
  {
   "cell_type": "markdown",
   "metadata": {},
   "source": [
    "## Enhance Data with PSC Manual Data\n",
    "\n",
    "### Steps:\n",
    " - Load PSC Codes\n",
    " - Load Group Codes\n",
    " - Merge PSC and Group data\n",
    " - Merge that set into Summary data\n",
    " "
   ]
  },
  {
   "cell_type": "code",
   "execution_count": 8,
   "metadata": {},
   "outputs": [],
   "source": [
    "psc_df = pd.read_csv(\"psc_codes.csv\")\n",
    "#psc_df.head()"
   ]
  },
  {
   "cell_type": "code",
   "execution_count": 9,
   "metadata": {},
   "outputs": [],
   "source": [
    "group_df = pd.read_csv(\"group_codes.csv\" )\n",
    "#group_df.head()"
   ]
  },
  {
   "cell_type": "code",
   "execution_count": 10,
   "metadata": {},
   "outputs": [],
   "source": [
    "# use an inner join.  How many records drop?\n",
    "# psc to numeric on both psc_df and summary_df.  There is an issue merging otherwise.\n",
    "psc_df = psc_df.merge(group_df, how= 'inner', on = \"group\")\n",
    "psc_df[\"psc\"]=pd.to_numeric(psc_df[\"psc\"], errors='coerce')\n"
   ]
  },
  {
   "cell_type": "code",
   "execution_count": 15,
   "metadata": {},
   "outputs": [],
   "source": [
    "summary_df = summary_df.merge(psc_df, how = 'inner', on = 'psc')"
   ]
  },
  {
   "cell_type": "code",
   "execution_count": 16,
   "metadata": {},
   "outputs": [
    {
     "data": {
      "text/html": [
       "<div>\n",
       "<style scoped>\n",
       "    .dataframe tbody tr th:only-of-type {\n",
       "        vertical-align: middle;\n",
       "    }\n",
       "\n",
       "    .dataframe tbody tr th {\n",
       "        vertical-align: top;\n",
       "    }\n",
       "\n",
       "    .dataframe thead th {\n",
       "        text-align: right;\n",
       "    }\n",
       "</style>\n",
       "<table border=\"1\" class=\"dataframe\">\n",
       "  <thead>\n",
       "    <tr style=\"text-align: right;\">\n",
       "      <th></th>\n",
       "      <th>State</th>\n",
       "      <th>Item Name</th>\n",
       "      <th>Ship Date</th>\n",
       "      <th>NSN</th>\n",
       "      <th>Quantity</th>\n",
       "      <th>Total.Cost</th>\n",
       "      <th>psc</th>\n",
       "      <th>group</th>\n",
       "      <th>psc_desc</th>\n",
       "      <th>psc_category</th>\n",
       "      <th>group_desc</th>\n",
       "      <th>group_note</th>\n",
       "    </tr>\n",
       "  </thead>\n",
       "  <tbody>\n",
       "    <tr>\n",
       "      <th>0</th>\n",
       "      <td>ALABAMA</td>\n",
       "      <td>1 4 DRIVE SOCKET SET</td>\n",
       "      <td>4/15/2012</td>\n",
       "      <td>5120-00-WRE-NSET</td>\n",
       "      <td>1</td>\n",
       "      <td>151.24</td>\n",
       "      <td>5120</td>\n",
       "      <td>51</td>\n",
       "      <td>Hand Tools</td>\n",
       "      <td>Nonedged</td>\n",
       "      <td>Hand Tools</td>\n",
       "      <td>NaN</td>\n",
       "    </tr>\n",
       "    <tr>\n",
       "      <th>1</th>\n",
       "      <td>ALABAMA</td>\n",
       "      <td>3 8 DRIVE SOCKET SET</td>\n",
       "      <td>4/15/2012</td>\n",
       "      <td>5120-00-WRE-NSET</td>\n",
       "      <td>1</td>\n",
       "      <td>250.00</td>\n",
       "      <td>5120</td>\n",
       "      <td>51</td>\n",
       "      <td>Hand Tools</td>\n",
       "      <td>Nonedged</td>\n",
       "      <td>Hand Tools</td>\n",
       "      <td>NaN</td>\n",
       "    </tr>\n",
       "    <tr>\n",
       "      <th>2</th>\n",
       "      <td>ALABAMA</td>\n",
       "      <td>ADAPTER SOCKET WREN</td>\n",
       "      <td>4/15/2012</td>\n",
       "      <td>5120-01-335-2021</td>\n",
       "      <td>1</td>\n",
       "      <td>62.16</td>\n",
       "      <td>5120</td>\n",
       "      <td>51</td>\n",
       "      <td>Hand Tools</td>\n",
       "      <td>Nonedged</td>\n",
       "      <td>Hand Tools</td>\n",
       "      <td>NaN</td>\n",
       "    </tr>\n",
       "    <tr>\n",
       "      <th>3</th>\n",
       "      <td>ALABAMA</td>\n",
       "      <td>ADAPTER SOCKET WREN</td>\n",
       "      <td>4/15/2012</td>\n",
       "      <td>5120-01-431-2957</td>\n",
       "      <td>2</td>\n",
       "      <td>8.36</td>\n",
       "      <td>5120</td>\n",
       "      <td>51</td>\n",
       "      <td>Hand Tools</td>\n",
       "      <td>Nonedged</td>\n",
       "      <td>Hand Tools</td>\n",
       "      <td>NaN</td>\n",
       "    </tr>\n",
       "    <tr>\n",
       "      <th>4</th>\n",
       "      <td>ALABAMA</td>\n",
       "      <td>ADAPTER,SOCKET WREN</td>\n",
       "      <td>4/15/2012</td>\n",
       "      <td>5120-00-227-8088</td>\n",
       "      <td>3</td>\n",
       "      <td>23.97</td>\n",
       "      <td>5120</td>\n",
       "      <td>51</td>\n",
       "      <td>Hand Tools</td>\n",
       "      <td>Nonedged</td>\n",
       "      <td>Hand Tools</td>\n",
       "      <td>NaN</td>\n",
       "    </tr>\n",
       "  </tbody>\n",
       "</table>\n",
       "</div>"
      ],
      "text/plain": [
       "     State             Item Name  Ship Date               NSN  Quantity  \\\n",
       "0  ALABAMA  1 4 DRIVE SOCKET SET  4/15/2012  5120-00-WRE-NSET         1   \n",
       "1  ALABAMA  3 8 DRIVE SOCKET SET  4/15/2012  5120-00-WRE-NSET         1   \n",
       "2  ALABAMA   ADAPTER SOCKET WREN  4/15/2012  5120-01-335-2021         1   \n",
       "3  ALABAMA   ADAPTER SOCKET WREN  4/15/2012  5120-01-431-2957         2   \n",
       "4  ALABAMA   ADAPTER,SOCKET WREN  4/15/2012  5120-00-227-8088         3   \n",
       "\n",
       "   Total.Cost   psc  group    psc_desc psc_category  group_desc group_note  \n",
       "0      151.24  5120     51  Hand Tools     Nonedged  Hand Tools        NaN  \n",
       "1      250.00  5120     51  Hand Tools     Nonedged  Hand Tools        NaN  \n",
       "2       62.16  5120     51  Hand Tools     Nonedged  Hand Tools        NaN  \n",
       "3        8.36  5120     51  Hand Tools     Nonedged  Hand Tools        NaN  \n",
       "4       23.97  5120     51  Hand Tools     Nonedged  Hand Tools        NaN  "
      ]
     },
     "execution_count": 16,
     "metadata": {},
     "output_type": "execute_result"
    }
   ],
   "source": [
    "summary_df.head()"
   ]
  },
  {
   "cell_type": "code",
   "execution_count": 17,
   "metadata": {},
   "outputs": [],
   "source": [
    "## walah.  Merged dataset ready for some plotting work.\n",
    "summary_df.to_csv(\"summary_df.csv\")"
   ]
  },
  {
   "cell_type": "code",
   "execution_count": null,
   "metadata": {},
   "outputs": [],
   "source": []
  }
 ],
 "metadata": {
  "kernelspec": {
   "display_name": "Python 3",
   "language": "python",
   "name": "python3"
  },
  "language_info": {
   "codemirror_mode": {
    "name": "ipython",
    "version": 3
   },
   "file_extension": ".py",
   "mimetype": "text/x-python",
   "name": "python",
   "nbconvert_exporter": "python",
   "pygments_lexer": "ipython3",
   "version": "3.6.4"
  }
 },
 "nbformat": 4,
 "nbformat_minor": 2
}
